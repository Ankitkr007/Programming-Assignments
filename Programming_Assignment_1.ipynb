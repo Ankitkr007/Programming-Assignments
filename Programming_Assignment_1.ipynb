{
  "nbformat": 4,
  "nbformat_minor": 0,
  "metadata": {
    "colab": {
      "provenance": []
    },
    "kernelspec": {
      "name": "python3",
      "display_name": "Python 3"
    },
    "language_info": {
      "name": "python"
    }
  },
  "cells": [
    {
      "cell_type": "markdown",
      "source": [
        "#QUESTION 1:\n",
        "Write a Python program to print 'Hello Python'. Write a Python program to print 'Hello Python'"
      ],
      "metadata": {
        "id": "J3wcm43NRpp4"
      }
    },
    {
      "cell_type": "code",
      "source": [
        "print(\"Hello Python\")\n"
      ],
      "metadata": {
        "colab": {
          "base_uri": "https://localhost:8080/"
        },
        "id": "d5W4ypfdR_kB",
        "outputId": "dbeb62ed-ed2f-4d9e-d441-90c801e2b216"
      },
      "execution_count": 1,
      "outputs": [
        {
          "output_type": "stream",
          "name": "stdout",
          "text": [
            "Hello Python\n"
          ]
        }
      ]
    },
    {
      "cell_type": "markdown",
      "source": [
        "#QUESTION 2:\n",
        "Write a Python program to do arithmetical operations addition and division.?"
      ],
      "metadata": {
        "id": "L6bs9O8zSBtT"
      }
    },
    {
      "cell_type": "code",
      "source": [
        "# Addition\n",
        "num1 = 10\n",
        "num2 = 5\n",
        "sum = num1 + num2\n",
        "print(\"Sum:\", sum)\n",
        "\n",
        "# Division\n",
        "num1 = 10\n",
        "num2 = 2\n",
        "quotient = num1 / num2\n",
        "print(\"Quotient:\", quotient)\n"
      ],
      "metadata": {
        "colab": {
          "base_uri": "https://localhost:8080/"
        },
        "id": "UzP9KDpzSAra",
        "outputId": "9a2d3ea2-fabb-4b9d-98ad-5a3ed8cc34d1"
      },
      "execution_count": 2,
      "outputs": [
        {
          "output_type": "stream",
          "name": "stdout",
          "text": [
            "Sum: 15\n",
            "Quotient: 5.0\n"
          ]
        }
      ]
    },
    {
      "cell_type": "markdown",
      "source": [
        "#QUESTION 3:\n",
        "Write a Python program to find the area of a triangle?"
      ],
      "metadata": {
        "id": "6I9DP6kaSNJK"
      }
    },
    {
      "cell_type": "code",
      "source": [
        "base = float(input(\"Enter the base of the triangle: \"))\n",
        "height = float(input(\"Enter the height of the triangle: \"))\n",
        "\n",
        "# Calculate the area of the triangle\n",
        "area = (base * height) / 2\n",
        "\n",
        "# Print the area\n",
        "print(\"The area of the triangle is:\", area)\n"
      ],
      "metadata": {
        "colab": {
          "base_uri": "https://localhost:8080/"
        },
        "id": "OUj4MkZBSYOO",
        "outputId": "25374b81-8470-4246-cbc9-ba017ca21148"
      },
      "execution_count": 3,
      "outputs": [
        {
          "output_type": "stream",
          "name": "stdout",
          "text": [
            "Enter the base of the triangle: 2\n",
            "Enter the height of the triangle: 3\n",
            "The area of the triangle is: 3.0\n"
          ]
        }
      ]
    },
    {
      "cell_type": "markdown",
      "source": [
        "#QUESTION 4:\n",
        "Write a Python program to swap two variables?"
      ],
      "metadata": {
        "id": "gXrz1-OHSy5y"
      }
    },
    {
      "cell_type": "code",
      "source": [
        "a = input(\"Enter the value of variable a: \")\n",
        "b = input(\"Enter the value of variable b: \")\n",
        "\n",
        "print(\"Before swapping:\")\n",
        "print(\"a =\", a)\n",
        "print(\"b =\", b)\n",
        "\n",
        "a, b = b, a\n",
        "\n",
        "print(\"After swapping:\")\n",
        "print(\"a =\", a)\n",
        "print(\"b =\", b)\n"
      ],
      "metadata": {
        "colab": {
          "base_uri": "https://localhost:8080/"
        },
        "id": "qnE4lAk9SwE0",
        "outputId": "692bffc7-6d12-46be-f82f-a44a7c588198"
      },
      "execution_count": 4,
      "outputs": [
        {
          "output_type": "stream",
          "name": "stdout",
          "text": [
            "Enter the value of variable a: 2\n",
            "Enter the value of variable b: 3\n",
            "Before swapping:\n",
            "a = 2\n",
            "b = 3\n",
            "After swapping:\n",
            "a = 3\n",
            "b = 2\n"
          ]
        }
      ]
    },
    {
      "cell_type": "markdown",
      "source": [
        "#QUESTION 5:\n",
        "Write a Python program to generate a random number?"
      ],
      "metadata": {
        "id": "aKk12uPDTBI8"
      }
    },
    {
      "cell_type": "code",
      "source": [
        "import random\n",
        "\n",
        "random_number = random.random()\n",
        "\n",
        "print(\"Random number:\", random_number)\n"
      ],
      "metadata": {
        "colab": {
          "base_uri": "https://localhost:8080/"
        },
        "id": "wCiY62NSS-jz",
        "outputId": "b85bbbe3-59aa-4d23-a2ce-37b9dbe2f19f"
      },
      "execution_count": 6,
      "outputs": [
        {
          "output_type": "stream",
          "name": "stdout",
          "text": [
            "Random number: 0.6497422240051373\n"
          ]
        }
      ]
    },
    {
      "cell_type": "code",
      "source": [],
      "metadata": {
        "id": "be5Mg2lYTLR1"
      },
      "execution_count": null,
      "outputs": []
    }
  ]
}