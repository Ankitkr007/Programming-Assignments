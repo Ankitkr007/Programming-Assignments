{
  "nbformat": 4,
  "nbformat_minor": 0,
  "metadata": {
    "colab": {
      "provenance": []
    },
    "kernelspec": {
      "name": "python3",
      "display_name": "Python 3"
    },
    "language_info": {
      "name": "python"
    }
  },
  "cells": [
    {
      "cell_type": "markdown",
      "source": [
        "#QUESTION 1:\n",
        "Write a Python Program to Find the Factorial of a Number?"
      ],
      "metadata": {
        "id": "nh_-9uSLo3r-"
      }
    },
    {
      "cell_type": "code",
      "source": [
        "def factorial(n):\n",
        "    if n == 0:\n",
        "        return 1\n",
        "    else:\n",
        "        return n * factorial(n-1)\n",
        "\n",
        "num = int(input(\"Enter a number: \"))\n",
        "if num < 0:\n",
        "    print(\"Factorial is not defined for negative numbers.\")\n",
        "else:\n",
        "    result = factorial(num)\n",
        "    print(\"The factorial of\", num, \"is\", result)\n"
      ],
      "metadata": {
        "colab": {
          "base_uri": "https://localhost:8080/"
        },
        "id": "WWAWnWPbo8Bx",
        "outputId": "6e783550-8dbb-4955-d705-3674ca2c748a"
      },
      "execution_count": 1,
      "outputs": [
        {
          "output_type": "stream",
          "name": "stdout",
          "text": [
            "Enter a number: 34\n",
            "The factorial of 34 is 295232799039604140847618609643520000000\n"
          ]
        }
      ]
    },
    {
      "cell_type": "markdown",
      "source": [
        "#QUESTION 2:\n",
        "Write a Python Program to Display the multiplication Table?"
      ],
      "metadata": {
        "id": "MO9003lwu4v6"
      }
    },
    {
      "cell_type": "code",
      "source": [
        "def multiplication_table(num):\n",
        "    for i in range(1, 11):\n",
        "        print(num, \"x\", i, \"=\", num * i)\n",
        "\n",
        "num = int(input(\"Enter a number: \"))\n",
        "multiplication_table(num)\n"
      ],
      "metadata": {
        "colab": {
          "base_uri": "https://localhost:8080/"
        },
        "id": "Gh5k7avduxCI",
        "outputId": "9b76af55-c8bf-43d5-8a14-6698cb17ce84"
      },
      "execution_count": 2,
      "outputs": [
        {
          "output_type": "stream",
          "name": "stdout",
          "text": [
            "Enter a number: 4\n",
            "4 x 1 = 4\n",
            "4 x 2 = 8\n",
            "4 x 3 = 12\n",
            "4 x 4 = 16\n",
            "4 x 5 = 20\n",
            "4 x 6 = 24\n",
            "4 x 7 = 28\n",
            "4 x 8 = 32\n",
            "4 x 9 = 36\n",
            "4 x 10 = 40\n"
          ]
        }
      ]
    },
    {
      "cell_type": "markdown",
      "source": [
        "#QUESTION 3:\n",
        "Write a Python Program to Print the Fibonacci sequence?"
      ],
      "metadata": {
        "id": "tM-9zMDevpKh"
      }
    },
    {
      "cell_type": "code",
      "source": [
        "def fibonacci_sequence(n):\n",
        "    fib_seq = [0, 1]\n",
        "\n",
        "    for i in range(2, n):\n",
        "        next_term = fib_seq[i-1] + fib_seq[i-2]\n",
        "        fib_seq.append(next_term)\n",
        "\n",
        "    for term in fib_seq:\n",
        "        print(term)\n",
        "\n",
        "n = int(input(\"Enter the number of terms: \"))\n",
        "fibonacci_sequence(n)\n"
      ],
      "metadata": {
        "colab": {
          "base_uri": "https://localhost:8080/"
        },
        "id": "m2COaY6hvnTM",
        "outputId": "5b9b22c8-b623-4803-c33c-cab6e22b58eb"
      },
      "execution_count": 3,
      "outputs": [
        {
          "output_type": "stream",
          "name": "stdout",
          "text": [
            "Enter the number of terms: 3\n",
            "0\n",
            "1\n",
            "1\n"
          ]
        }
      ]
    },
    {
      "cell_type": "markdown",
      "source": [
        "#QUESTION 4:\n",
        "Write a Python Program to Check Armstrong Number?"
      ],
      "metadata": {
        "id": "cMZlDuOiv6DV"
      }
    },
    {
      "cell_type": "code",
      "source": [
        "def is_armstrong_number(num):\n",
        "    num_str = str(num)\n",
        "\n",
        "    sum_of_cubes = sum([int(digit)**len(num_str) for digit in num_str])\n",
        "\n",
        "    if sum_of_cubes == num:\n",
        "        return True\n",
        "    else:\n",
        "        return False\n",
        "\n",
        "num = int(input(\"Enter a number: \"))\n",
        "if is_armstrong_number(num):\n",
        "    print(num, \"is an Armstrong number\")\n",
        "else:\n",
        "    print(num, \"is not an Armstrong number\")"
      ],
      "metadata": {
        "colab": {
          "base_uri": "https://localhost:8080/"
        },
        "id": "yCvzNJOmv35W",
        "outputId": "8558e6a3-cb2b-4376-f343-3c1d8c6f4c1d"
      },
      "execution_count": 4,
      "outputs": [
        {
          "output_type": "stream",
          "name": "stdout",
          "text": [
            "Enter a number: 32\n",
            "32 is not an Armstrong number\n"
          ]
        }
      ]
    },
    {
      "cell_type": "markdown",
      "source": [
        "#QUESTION 5:\n",
        "Write a Python Program to Find Armstrong Number in an Interval?"
      ],
      "metadata": {
        "id": "pzDaQfXmwdJb"
      }
    },
    {
      "cell_type": "code",
      "source": [
        "def is_armstrong_number(num):\n",
        "    num_str = str(num)\n",
        "\n",
        "    sum_of_cubes = sum([int(digit)**len(num_str) for digit in num_str])\n",
        "\n",
        "    if sum_of_cubes == num:\n",
        "        return True\n",
        "    else:\n",
        "        return False\n",
        "\n",
        "start = int(input(\"Enter the starting number of the interval: \"))\n",
        "end = int(input(\"Enter the ending number of the interval: \"))\n",
        "\n",
        "for num in range(start, end + 1):\n",
        "    if is_armstrong_number(num):\n",
        "        print(num)"
      ],
      "metadata": {
        "colab": {
          "base_uri": "https://localhost:8080/"
        },
        "id": "XcuATn5cwaY7",
        "outputId": "61f55c43-7b77-4f35-9f71-28562e530074"
      },
      "execution_count": 6,
      "outputs": [
        {
          "output_type": "stream",
          "name": "stdout",
          "text": [
            "Enter the starting number of the interval: 3\n",
            "Enter the ending number of the interval: 4\n",
            "3\n",
            "4\n"
          ]
        }
      ]
    },
    {
      "cell_type": "markdown",
      "source": [
        "#QUESTION 6:\n",
        "Write a Python Program to Find the Sum of Natural Numbers?"
      ],
      "metadata": {
        "id": "BXeK1LOaw7Pr"
      }
    },
    {
      "cell_type": "code",
      "source": [
        "def sum_of_natural_numbers(n):\n",
        "    sum = (n * (n + 1)) // 2\n",
        "    return sum\n",
        "\n",
        "n = int(input(\"Enter a positive integer: \"))\n",
        "\n",
        "sum = sum_of_natural_numbers(n)\n",
        "\n",
        "print(\"The sum of natural numbers up to\", n, \"is\", sum)"
      ],
      "metadata": {
        "colab": {
          "base_uri": "https://localhost:8080/"
        },
        "id": "hCuGqjhbwxlI",
        "outputId": "04b93088-9e1a-4187-9cb0-9e2f6377dd8e"
      },
      "execution_count": 7,
      "outputs": [
        {
          "output_type": "stream",
          "name": "stdout",
          "text": [
            "Enter a positive integer: 4\n",
            "The sum of natural numbers up to 4 is 10\n"
          ]
        }
      ]
    }
  ]
}