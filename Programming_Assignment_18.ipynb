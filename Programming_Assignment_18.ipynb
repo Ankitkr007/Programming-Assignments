{
  "nbformat": 4,
  "nbformat_minor": 0,
  "metadata": {
    "colab": {
      "provenance": []
    },
    "kernelspec": {
      "name": "python3",
      "display_name": "Python 3"
    },
    "language_info": {
      "name": "python"
    }
  },
  "cells": [
    {
      "cell_type": "markdown",
      "source": [
        "#Question 1\n",
        "Create a function that takes a list of non-negative integers and strings and return a new list\n",
        "without the strings.\n",
        "Examples\n",
        "filter_list([1, 2, \"a\", \"b\"]) ➞ [1, 2]\n",
        "filter_list([1, \"a\", \"b\", 0, 15]) ➞ [1, 0, 15]\n",
        "filter_list([1, 2, \"aasf\", \"1\", \"123\", 123]) ➞ [1, 2, 123]"
      ],
      "metadata": {
        "id": "kPQAeYxDDYk0"
      }
    },
    {
      "cell_type": "code",
      "source": [
        "def filter_list(lst):\n",
        "    return [x for x in lst if isinstance(x, int)]\n",
        "\n",
        "print(filter_list([1, 2, \"a\", \"b\"]))\n",
        "print(filter_list([1, \"a\", \"b\", 0, 15]))\n",
        "print(filter_list([1, 2, \"aasf\", \"1\", \"123\", 123]))"
      ],
      "metadata": {
        "colab": {
          "base_uri": "https://localhost:8080/"
        },
        "id": "Bku1935zD-3o",
        "outputId": "0de3ba53-46b4-4059-d24a-7b87d72f2037"
      },
      "execution_count": 1,
      "outputs": [
        {
          "output_type": "stream",
          "name": "stdout",
          "text": [
            "[1, 2]\n",
            "[1, 0, 15]\n",
            "[1, 2, 123]\n"
          ]
        }
      ]
    },
    {
      "cell_type": "markdown",
      "source": [
        "#Question 2\n",
        "The \"Reverser\" takes a string as input and returns that string in reverse order, with the\n",
        "opposite case.\n",
        "Examples\n",
        "reverse(\"Hello World\") ➞ \"DLROw OLLEh\"\n",
        "reverse(\"ReVeRsE\") ➞ \"eSrEvEr\"\n",
        "reverse(\"Radar\") ➞ \"RADAr\""
      ],
      "metadata": {
        "id": "GP4rEPdlENo_"
      }
    },
    {
      "cell_type": "code",
      "source": [
        "def reverse(string):\n",
        "    return string[::-1].swapcase()\n",
        "\n",
        "print(reverse(\"Hello World\"))\n",
        "print(reverse(\"ReVeRsE\"))\n",
        "print(reverse(\"Radar\"))"
      ],
      "metadata": {
        "colab": {
          "base_uri": "https://localhost:8080/"
        },
        "id": "rA0uE_lEEnc5",
        "outputId": "addcdd03-fca8-49db-ebd0-3080c3744df0"
      },
      "execution_count": 2,
      "outputs": [
        {
          "output_type": "stream",
          "name": "stdout",
          "text": [
            "DLROw OLLEh\n",
            "eSrEvEr\n",
            "RADAr\n"
          ]
        }
      ]
    },
    {
      "cell_type": "markdown",
      "source": [
        "#QUESTION 3:\n",
        "You can assign variables from lists like this:\n",
        "lst = [1, 2, 3, 4, 5, 6]\n",
        "first = lst[0]\n",
        "middle = lst[1:-1]\n",
        "last = lst[-1]\n",
        "print(first) ➞ outputs 1\n",
        "print(middle) ➞ outputs [2, 3, 4, 5]\n",
        "print(last) ➞ outputs 6\n",
        "With Python 3, you can assign variables from lists in a much more succinct way. Create\n",
        "variables first, middle and last from the given list using destructuring assignment\n",
        "(check the Resources tab for some examples), where:\n",
        "first ➞ 1\n",
        "middle ➞ [2, 3, 4, 5]\n",
        "last ➞ 6\n",
        "\n",
        "Your task is to unpack the list writeyourcodehere into three variables, being first,\n",
        "middle, and last, with middle being everything in between the first and last element. Then\n",
        "print all three variables."
      ],
      "metadata": {
        "id": "gSIKiLcbEyG1"
      }
    },
    {
      "cell_type": "code",
      "source": [
        "writeyourcodehere = [1, 2, 3, 4, 5, 6]\n",
        "\n",
        "first, *middle, last = writeyourcodehere\n",
        "\n",
        "print(first)\n",
        "print(middle)\n",
        "print(last)"
      ],
      "metadata": {
        "colab": {
          "base_uri": "https://localhost:8080/"
        },
        "id": "uuRUmd12ExQD",
        "outputId": "d3a97291-cb49-4a6e-c09d-7acd05b6537c"
      },
      "execution_count": 3,
      "outputs": [
        {
          "output_type": "stream",
          "name": "stdout",
          "text": [
            "1\n",
            "[2, 3, 4, 5]\n",
            "6\n"
          ]
        }
      ]
    },
    {
      "cell_type": "markdown",
      "source": [
        "#Question 4\n",
        "Write a function that calculates the factorial of a number recursively.\n",
        "Examples\n",
        "factorial(5) ➞ 120\n",
        "factorial(3) ➞ 6\n",
        "factorial(1) ➞ 1\n",
        "factorial(0) ➞ 1"
      ],
      "metadata": {
        "id": "-GzttDcTFQm8"
      }
    },
    {
      "cell_type": "code",
      "source": [
        "def factorial(n):\n",
        "    if n == 0 or n == 1:\n",
        "        return 1\n",
        "    else:\n",
        "        return n * factorial(n - 1)\n",
        "print(factorial(5))\n",
        "print(factorial(3))\n",
        "print(factorial(1))\n",
        "print(factorial(0))"
      ],
      "metadata": {
        "colab": {
          "base_uri": "https://localhost:8080/"
        },
        "id": "2KLfs9HnFMvk",
        "outputId": "eefec2cf-6bfe-4939-eaef-ae9cfbdd15c9"
      },
      "execution_count": 4,
      "outputs": [
        {
          "output_type": "stream",
          "name": "stdout",
          "text": [
            "120\n",
            "6\n",
            "1\n",
            "1\n"
          ]
        }
      ]
    },
    {
      "cell_type": "markdown",
      "source": [
        "#QUESTION 5:\n",
        "Write a function that moves all elements of one type to the end of the list.\n",
        "Examples\n",
        "move_to_end([1, 3, 2, 4, 4, 1], 1) ➞ [3, 2, 4, 4, 1, 1]\n",
        "# Move all the 1s to the end of the array.\n",
        "move_to_end([7, 8, 9, 1, 2, 3, 4], 9) ➞ [7, 8, 1, 2, 3, 4, 9]\n",
        "move_to_end([\"a\", \"a\", \"a\", \"b\"], \"a\") ➞ [\"b\", \"a\", \"a\", \"a\"]"
      ],
      "metadata": {
        "id": "G_FwOC95FkkY"
      }
    },
    {
      "cell_type": "code",
      "source": [
        "def move_to_end(lst, element):\n",
        "    count = lst.count(element)\n",
        "    lst = [x for x in lst if x != element]\n",
        "    lst.extend([element] * count)\n",
        "    return lst\n",
        "print(move_to_end([1, 3, 2, 4, 4, 1], 1))\n",
        "print(move_to_end([7, 8, 9, 1, 2, 3, 4], 9))\n",
        "print(move_to_end([\"a\", \"a\", \"a\", \"b\"], \"a\"))\n"
      ],
      "metadata": {
        "colab": {
          "base_uri": "https://localhost:8080/"
        },
        "id": "Ybg4aq8FFgvQ",
        "outputId": "adbdbde6-89b7-4cb8-8d99-645fb33a60fa"
      },
      "execution_count": 5,
      "outputs": [
        {
          "output_type": "stream",
          "name": "stdout",
          "text": [
            "[3, 2, 4, 4, 1, 1]\n",
            "[7, 8, 1, 2, 3, 4, 9]\n",
            "['b', 'a', 'a', 'a']\n"
          ]
        }
      ]
    },
    {
      "cell_type": "code",
      "source": [],
      "metadata": {
        "id": "k5QwF56kGJGi"
      },
      "execution_count": null,
      "outputs": []
    }
  ]
}