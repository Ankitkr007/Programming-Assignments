{
  "nbformat": 4,
  "nbformat_minor": 0,
  "metadata": {
    "colab": {
      "provenance": []
    },
    "kernelspec": {
      "name": "python3",
      "display_name": "Python 3"
    },
    "language_info": {
      "name": "python"
    }
  },
  "cells": [
    {
      "cell_type": "markdown",
      "source": [
        "#QUESTION 1:\n",
        "Write a Python Program to Find LCM?\n",
        "\n"
      ],
      "metadata": {
        "id": "689WFu_vyByi"
      }
    },
    {
      "cell_type": "code",
      "source": [
        "def find_lcm(num1, num2):\n",
        "    max_num = max(num1, num2)\n",
        "\n",
        "    while True:\n",
        "        if max_num % num1 == 0 and max_num % num2 == 0:\n",
        "            lcm = max_num\n",
        "            break\n",
        "        max_num += 1\n",
        "\n",
        "    return lcm\n",
        "\n",
        "num1 = int(input(\"Enter the first number: \"))\n",
        "num2 = int(input(\"Enter the second number: \"))\n",
        "\n",
        "lcm = find_lcm(num1, num2)\n",
        "\n",
        "print(\"The LCM of\", num1, \"and\", num2, \"is\", lcm)"
      ],
      "metadata": {
        "colab": {
          "base_uri": "https://localhost:8080/"
        },
        "id": "s-et328PyIVZ",
        "outputId": "7565e1c8-1a97-45d1-d09c-eff2a7de43a2"
      },
      "execution_count": 1,
      "outputs": [
        {
          "output_type": "stream",
          "name": "stdout",
          "text": [
            "Enter the first number: 43\n",
            "Enter the second number: 2\n",
            "The LCM of 43 and 2 is 86\n"
          ]
        }
      ]
    },
    {
      "cell_type": "markdown",
      "source": [
        "#QUESTION 2:\n",
        "Write a Python Program to Find HCF?"
      ],
      "metadata": {
        "id": "VLa3GkNcycZE"
      }
    },
    {
      "cell_type": "code",
      "source": [
        "def find_hcf(num1, num2):\n",
        "    min_num = min(num1, num2)\n",
        "\n",
        "    hcf = 1\n",
        "\n",
        "    for i in range(1, min_num + 1):\n",
        "\n",
        "        if num1 % i == 0 and num2 % i == 0:\n",
        "            hcf = i\n",
        "\n",
        "    return hcf\n",
        "\n",
        "num1 = int(input(\"Enter the first number: \"))\n",
        "num2 = int(input(\"Enter the second number: \"))\n",
        "\n",
        "hcf = find_hcf(num1, num2)\n",
        "\n",
        "print(\"The HCF of\", num1, \"and\", num2, \"is\", hcf)"
      ],
      "metadata": {
        "colab": {
          "base_uri": "https://localhost:8080/"
        },
        "id": "Cn1pmkIyyP7e",
        "outputId": "7e613abf-8ae9-4948-fdfd-8b2552172ac7"
      },
      "execution_count": 2,
      "outputs": [
        {
          "output_type": "stream",
          "name": "stdout",
          "text": [
            "Enter the first number: 3\n",
            "Enter the second number: 2\n",
            "The HCF of 3 and 2 is 1\n"
          ]
        }
      ]
    },
    {
      "cell_type": "markdown",
      "source": [
        "#QUESTION 3:\n",
        "Write a Python Program to Convert Decimal to Binary, Octal and Hexadecimal?"
      ],
      "metadata": {
        "id": "NkicifhbzqaN"
      }
    },
    {
      "cell_type": "code",
      "source": [
        "decimal = int(input(\"Enter a decimal number: \"))\n",
        "\n",
        "binary = bin(decimal)[2:]\n",
        "octal = oct(decimal)[2:]\n",
        "hexadecimal = hex(decimal)[2:]\n",
        "\n",
        "print(\"Binary: \", binary)\n",
        "print(\"Octal: \", octal)\n",
        "print(\"Hexadecimal: \", hexadecimal)\n"
      ],
      "metadata": {
        "colab": {
          "base_uri": "https://localhost:8080/",
          "height": 252
        },
        "id": "BZeA-KTKznpL",
        "outputId": "6871e31c-8515-4630-eaed-df41f6416bc1"
      },
      "execution_count": 3,
      "outputs": [
        {
          "name": "stdout",
          "output_type": "stream",
          "text": [
            "Enter a decimal number: 3.4\n"
          ]
        },
        {
          "output_type": "error",
          "ename": "ValueError",
          "evalue": "ignored",
          "traceback": [
            "\u001b[0;31m---------------------------------------------------------------------------\u001b[0m",
            "\u001b[0;31mValueError\u001b[0m                                Traceback (most recent call last)",
            "\u001b[0;32m<ipython-input-3-7f4f4340ae99>\u001b[0m in \u001b[0;36m<cell line: 1>\u001b[0;34m()\u001b[0m\n\u001b[0;32m----> 1\u001b[0;31m \u001b[0mdecimal\u001b[0m \u001b[0;34m=\u001b[0m \u001b[0mint\u001b[0m\u001b[0;34m(\u001b[0m\u001b[0minput\u001b[0m\u001b[0;34m(\u001b[0m\u001b[0;34m\"Enter a decimal number: \"\u001b[0m\u001b[0;34m)\u001b[0m\u001b[0;34m)\u001b[0m\u001b[0;34m\u001b[0m\u001b[0;34m\u001b[0m\u001b[0m\n\u001b[0m\u001b[1;32m      2\u001b[0m \u001b[0;34m\u001b[0m\u001b[0m\n\u001b[1;32m      3\u001b[0m \u001b[0mbinary\u001b[0m \u001b[0;34m=\u001b[0m \u001b[0mbin\u001b[0m\u001b[0;34m(\u001b[0m\u001b[0mdecimal\u001b[0m\u001b[0;34m)\u001b[0m\u001b[0;34m[\u001b[0m\u001b[0;36m2\u001b[0m\u001b[0;34m:\u001b[0m\u001b[0;34m]\u001b[0m\u001b[0;34m\u001b[0m\u001b[0;34m\u001b[0m\u001b[0m\n\u001b[1;32m      4\u001b[0m \u001b[0moctal\u001b[0m \u001b[0;34m=\u001b[0m \u001b[0moct\u001b[0m\u001b[0;34m(\u001b[0m\u001b[0mdecimal\u001b[0m\u001b[0;34m)\u001b[0m\u001b[0;34m[\u001b[0m\u001b[0;36m2\u001b[0m\u001b[0;34m:\u001b[0m\u001b[0;34m]\u001b[0m\u001b[0;34m\u001b[0m\u001b[0;34m\u001b[0m\u001b[0m\n\u001b[1;32m      5\u001b[0m \u001b[0mhexadecimal\u001b[0m \u001b[0;34m=\u001b[0m \u001b[0mhex\u001b[0m\u001b[0;34m(\u001b[0m\u001b[0mdecimal\u001b[0m\u001b[0;34m)\u001b[0m\u001b[0;34m[\u001b[0m\u001b[0;36m2\u001b[0m\u001b[0;34m:\u001b[0m\u001b[0;34m]\u001b[0m\u001b[0;34m\u001b[0m\u001b[0;34m\u001b[0m\u001b[0m\n",
            "\u001b[0;31mValueError\u001b[0m: invalid literal for int() with base 10: '3.4'"
          ]
        }
      ]
    },
    {
      "cell_type": "markdown",
      "source": [
        "#QUESTION 4:\n",
        "Write a Python Program To Find ASCII value of a character?"
      ],
      "metadata": {
        "id": "DL07G15D0vaR"
      }
    },
    {
      "cell_type": "code",
      "source": [
        "character = input(\"Enter a character: \")\n",
        "ascii_value = ord(character)\n",
        "print(\"ASCII value of\", character, \"is\", ascii_value)\n"
      ],
      "metadata": {
        "colab": {
          "base_uri": "https://localhost:8080/"
        },
        "id": "R6B7N0-20o8-",
        "outputId": "89b1ae6f-8b70-4ff2-f76b-9de813084cbd"
      },
      "execution_count": 5,
      "outputs": [
        {
          "output_type": "stream",
          "name": "stdout",
          "text": [
            "Enter a character: q\n",
            "ASCII value of q is 113\n"
          ]
        }
      ]
    },
    {
      "cell_type": "markdown",
      "source": [
        "#QUESTION 5:\n",
        "Write a Python Program to Make a Simple Calculator with 4 basic mathematical operations?"
      ],
      "metadata": {
        "id": "9qlLdl5V1WsH"
      }
    },
    {
      "cell_type": "code",
      "source": [
        "def add(a, b):\n",
        "    return a + b\n",
        "\n",
        "def subtract(a, b):\n",
        "    return a - b\n",
        "\n",
        "def multiply(a, b):\n",
        "    return a * b\n",
        "\n",
        "def divide(a, b):\n",
        "    return a / b\n",
        "\n",
        "print(\"Select operation:\")\n",
        "print(\"1. Addition\")\n",
        "print(\"2. Subtraction\")\n",
        "print(\"3. Multiplication\")\n",
        "print(\"4. Division\")\n",
        "\n",
        "choice = input(\"Enter choice (1-4): \")\n",
        "\n",
        "num1 = float(input(\"Enter first number: \"))\n",
        "num2 = float(input(\"Enter second number: \"))\n",
        "\n",
        "if choice == '1':\n",
        "    result = add(num1, num2)\n",
        "    operation = '+'\n",
        "elif choice == '2':\n",
        "    result = subtract(num1, num2)\n",
        "    operation = '-'\n",
        "elif choice == '3':\n",
        "    result = multiply(num1, num2)\n",
        "    operation = '*'\n",
        "elif choice == '4':\n",
        "    result = divide(num1, num2)\n",
        "    operation = '/'\n",
        "else:\n",
        "    print(\"Invalid choice\")\n",
        "    exit()\n",
        "\n",
        "print(num1, operation, num2, \"=\", result)"
      ],
      "metadata": {
        "colab": {
          "base_uri": "https://localhost:8080/"
        },
        "id": "Pj8vBlZH1bMy",
        "outputId": "2bbef76c-6877-4645-a670-01950ce3b001"
      },
      "execution_count": 1,
      "outputs": [
        {
          "output_type": "stream",
          "name": "stdout",
          "text": [
            "Select operation:\n",
            "1. Addition\n",
            "2. Subtraction\n",
            "3. Multiplication\n",
            "4. Division\n",
            "Enter choice (1-4): 3\n",
            "Enter first number: 4\n",
            "Enter second number: 5\n",
            "4.0 * 5.0 = 20.0\n"
          ]
        }
      ]
    },
    {
      "cell_type": "code",
      "source": [],
      "metadata": {
        "id": "QY9qHV9J1oux"
      },
      "execution_count": null,
      "outputs": []
    }
  ]
}