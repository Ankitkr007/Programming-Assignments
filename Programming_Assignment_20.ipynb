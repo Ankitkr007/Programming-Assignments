{
  "nbformat": 4,
  "nbformat_minor": 0,
  "metadata": {
    "colab": {
      "provenance": []
    },
    "kernelspec": {
      "name": "python3",
      "display_name": "Python 3"
    },
    "language_info": {
      "name": "python"
    }
  },
  "cells": [
    {
      "cell_type": "markdown",
      "source": [
        "#Question1\n",
        "Create a function that takes a list of strings and integers, and filters out the list so that it\n",
        "returns a list of integers only.\n",
        "Examples\n",
        "filter_list([1, 2, 3, \"a\", \"b\", 4]) ➞ [1, 2, 3, 4]\n",
        "filter_list([\"A\", 0, \"Edabit\", 1729, \"Python\", \"1729\"]) ➞ [0, 1729]\n",
        "filter_list([\"Nothing\", \"here\"]) ➞ []"
      ],
      "metadata": {
        "id": "9YW6n1BsKLxV"
      }
    },
    {
      "cell_type": "code",
      "source": [
        "  def filter_list(lst):\n",
        "    return [num for num in lst if isinstance(num, int)]\n",
        "print(filter_list([1, 2, 3, \"a\", \"b\", 4]))\n",
        "print(filter_list([\"A\", 0, \"Edabit\", 1729, \"Python\", \"1729\"]))\n",
        "print(filter_list([\"Nothing\", \"here\"]))\n"
      ],
      "metadata": {
        "colab": {
          "base_uri": "https://localhost:8080/"
        },
        "id": "XGoU0PVdKUZz",
        "outputId": "534b33b2-9db7-48f4-fe53-6c7305f19721"
      },
      "execution_count": 1,
      "outputs": [
        {
          "output_type": "stream",
          "name": "stdout",
          "text": [
            "[1, 2, 3, 4]\n",
            "[0, 1729]\n",
            "[]\n"
          ]
        }
      ]
    },
    {
      "cell_type": "markdown",
      "source": [
        "#Question2\n",
        "Given a list of numbers, create a function which returns the list but with each element&#39;s\n",
        "index in the list added to itself. This means you add 0 to the number at index 0, add 1 to the\n",
        "number at index 1, etc...\n",
        "Examples\n",
        "add_indexes([0, 0, 0, 0, 0]) ➞ [0, 1, 2, 3, 4]\n",
        "add_indexes([1, 2, 3, 4, 5]) ➞ [1, 3, 5, 7, 9]\n",
        "add_indexes([5, 4, 3, 2, 1]) ➞ [5, 5, 5, 5, 5]"
      ],
      "metadata": {
        "id": "pP_AYG9HL4eG"
      }
    },
    {
      "cell_type": "code",
      "source": [
        "def add_indexes(lst):\n",
        "    return [num + index for index, num in enumerate(lst)]\n",
        "print(add_indexes([0, 0, 0, 0, 0]))\n",
        "print(add_indexes([1, 2, 3, 4, 5]))\n",
        "print(add_indexes([5, 4, 3, 2, 1]))"
      ],
      "metadata": {
        "colab": {
          "base_uri": "https://localhost:8080/"
        },
        "id": "7mEVWERSL8rp",
        "outputId": "e1e4396c-20c7-4e51-a6a9-107a372207c9"
      },
      "execution_count": 3,
      "outputs": [
        {
          "output_type": "stream",
          "name": "stdout",
          "text": [
            "[0, 1, 2, 3, 4]\n",
            "[1, 3, 5, 7, 9]\n",
            "[5, 5, 5, 5, 5]\n"
          ]
        }
      ]
    },
    {
      "cell_type": "markdown",
      "source": [
        "#Question3\n",
        "Create a function that takes the height and radius of a cone as arguments and returns the\n",
        "volume of the cone rounded to the nearest hundredth. See the resources tab for the formula.\n",
        "\n",
        "Examples\n",
        "cone_volume(3, 2) ➞ 12.57\n",
        "\n",
        "cone_volume(15, 6) ➞ 565.49\n",
        "cone_volume(18, 0) ➞ 0"
      ],
      "metadata": {
        "id": "dLokUlqmMTqr"
      }
    },
    {
      "cell_type": "code",
      "source": [
        "import math\n",
        "\n",
        "def cone_volume(height, radius):\n",
        "    volume = (1/3) * math.pi * radius**2 * height\n",
        "    return round(volume, 2)\n",
        "print(cone_volume(3, 2))   # Output: 12.57\n",
        "print(cone_volume(15, 6))  # Output: 565.49\n",
        "print(cone_volume(18, 0))  # Output: 0.00"
      ],
      "metadata": {
        "colab": {
          "base_uri": "https://localhost:8080/"
        },
        "id": "AONpG7B0MSMc",
        "outputId": "e538eb7b-dc4a-4869-d40c-c117e4018971"
      },
      "execution_count": 4,
      "outputs": [
        {
          "output_type": "stream",
          "name": "stdout",
          "text": [
            "12.57\n",
            "565.49\n",
            "0.0\n"
          ]
        }
      ]
    },
    {
      "cell_type": "markdown",
      "source": [
        "#QUESTION 4\n",
        "This Triangular Number Sequence is generated from a pattern of dots that form a triangle.\n",
        "The first 5 numbers of the sequence, or dots, are:\n",
        "1, 3, 6, 10, 15\n",
        "This means that the first triangle has just one dot, the second one has three dots, the third one\n",
        "has 6 dots and so on.\n",
        "Write a function that gives the number of dots with its corresponding triangle number of the\n",
        "sequence.\n",
        "Examples\n",
        "triangle(1) ➞ 1\n",
        "triangle(6) ➞ 21\n",
        "triangle(215) ➞ 23220"
      ],
      "metadata": {
        "id": "V4AqmDhlMqwL"
      }
    },
    {
      "cell_type": "code",
      "source": [
        "def triangle(n):\n",
        "    dots = (n * (n + 1)) // 2\n",
        "    return dots\n",
        "print(triangle(1))\n",
        "print(triangle(6))\n",
        "print(triangle(215))"
      ],
      "metadata": {
        "colab": {
          "base_uri": "https://localhost:8080/"
        },
        "id": "cld34eZAMo0U",
        "outputId": "4ec393a8-1735-40f6-a5a3-7a51bd28c1a1"
      },
      "execution_count": 5,
      "outputs": [
        {
          "output_type": "stream",
          "name": "stdout",
          "text": [
            "1\n",
            "21\n",
            "23220\n"
          ]
        }
      ]
    },
    {
      "cell_type": "markdown",
      "source": [
        "#QUESTION 5:\n",
        "Create a function that takes a list of numbers between 1 and 10 (excluding one number) and\n",
        "returns the missing number.\n",
        "Examples\n",
        "missing_num([1, 2, 3, 4, 6, 7, 8, 9, 10]) ➞ 5\n",
        "missing_num([7, 2, 3, 6, 5, 9, 1, 4, 8]) ➞ 10\n",
        "missing_num([10, 5, 1, 2, 4, 6, 8, 3, 9]) ➞ 7"
      ],
      "metadata": {
        "id": "G5PHaX19NFK0"
      }
    },
    {
      "cell_type": "code",
      "source": [
        "def missing_num(numbers):\n",
        "    expected_sum = sum(range(1, 11))\n",
        "    actual_sum = sum(numbers)\n",
        "    missing_number = expected_sum - actual_sum\n",
        "    return missing_number\n",
        "print(missing_num([1, 2, 3, 4, 6, 7, 8, 9, 10]))\n",
        "print(missing_num([7, 2, 3, 6, 5, 9, 1, 4, 8]))\n",
        "print(missing_num([10, 5, 1, 2, 4, 6, 8, 3, 9]))"
      ],
      "metadata": {
        "colab": {
          "base_uri": "https://localhost:8080/"
        },
        "id": "GUW9VYeJNDnm",
        "outputId": "d3123b28-aa3b-46c2-cb35-180befd96465"
      },
      "execution_count": 6,
      "outputs": [
        {
          "output_type": "stream",
          "name": "stdout",
          "text": [
            "5\n",
            "10\n",
            "7\n"
          ]
        }
      ]
    }
  ]
}