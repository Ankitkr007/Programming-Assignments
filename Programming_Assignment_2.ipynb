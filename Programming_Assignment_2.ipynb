{
  "nbformat": 4,
  "nbformat_minor": 0,
  "metadata": {
    "colab": {
      "provenance": []
    },
    "kernelspec": {
      "name": "python3",
      "display_name": "Python 3"
    },
    "language_info": {
      "name": "python"
    }
  },
  "cells": [
    {
      "cell_type": "markdown",
      "source": [
        "#QUESTION 1:\n",
        "Write a Python program to convert kilometers to miles?"
      ],
      "metadata": {
        "id": "yEh_HO6-jnKK"
      }
    },
    {
      "cell_type": "code",
      "source": [
        "def kilometers_to_miles(kilometers):\n",
        "    miles = kilometers * 0.621371\n",
        "    return miles\n",
        "\n",
        "kilometers = float(input(\"Enter the distance in kilometers: \"))\n",
        "\n",
        "miles = kilometers_to_miles(kilometers)\n",
        "\n",
        "print(\"Distance in miles:\", miles)"
      ],
      "metadata": {
        "colab": {
          "base_uri": "https://localhost:8080/"
        },
        "id": "5y5Clhcjjq7m",
        "outputId": "cb4357a6-8cdc-4ef4-bb77-b5eb11ec6b03"
      },
      "execution_count": 1,
      "outputs": [
        {
          "output_type": "stream",
          "name": "stdout",
          "text": [
            "Enter the distance in kilometers: 3\n",
            "Distance in miles: 1.8641130000000001\n"
          ]
        }
      ]
    },
    {
      "cell_type": "markdown",
      "source": [
        "#QUESTION 2:\n",
        "Write a Python program to convert Celsius to Fahrenheit?"
      ],
      "metadata": {
        "id": "D55pqA0kj5sf"
      }
    },
    {
      "cell_type": "code",
      "source": [
        "def celsius_to_fahrenheit(celsius):\n",
        "    fahrenheit = (celsius * 9/5) + 32\n",
        "    return fahrenheit\n",
        "\n",
        "celsius = float(input(\"Enter the temperature in Celsius: \"))\n",
        "\n",
        "fahrenheit = celsius_to_fahrenheit(celsius)\n",
        "\n",
        "print(\"Temperature in Fahrenheit:\", fahrenheit)"
      ],
      "metadata": {
        "colab": {
          "base_uri": "https://localhost:8080/"
        },
        "id": "c-40OJcUkKht",
        "outputId": "b93e39e0-5130-4227-a922-be24822da417"
      },
      "execution_count": 2,
      "outputs": [
        {
          "output_type": "stream",
          "name": "stdout",
          "text": [
            "Enter the temperature in Celsius: 8\n",
            "Temperature in Fahrenheit: 46.4\n"
          ]
        }
      ]
    },
    {
      "cell_type": "markdown",
      "source": [
        "#QUESTION 3:\n",
        "Write a Python program to display calendar?"
      ],
      "metadata": {
        "id": "2ZvYWtlZkWsX"
      }
    },
    {
      "cell_type": "code",
      "source": [
        "import calendar\n",
        "\n",
        "year = int(input(\"Enter the year: \"))\n",
        "month = int(input(\"Enter the month: \"))\n",
        "\n",
        "print(calendar.month(year, month))"
      ],
      "metadata": {
        "colab": {
          "base_uri": "https://localhost:8080/"
        },
        "id": "ycX6P6q9kUrH",
        "outputId": "e6ff3561-c94b-4cda-f153-0ed9aa12d9a4"
      },
      "execution_count": 3,
      "outputs": [
        {
          "output_type": "stream",
          "name": "stdout",
          "text": [
            "Enter the year: 1997\n",
            "Enter the month: 03\n",
            "     March 1997\n",
            "Mo Tu We Th Fr Sa Su\n",
            "                1  2\n",
            " 3  4  5  6  7  8  9\n",
            "10 11 12 13 14 15 16\n",
            "17 18 19 20 21 22 23\n",
            "24 25 26 27 28 29 30\n",
            "31\n",
            "\n"
          ]
        }
      ]
    },
    {
      "cell_type": "markdown",
      "source": [
        "#QUESTION 4:\n",
        "Write a Python program to solve quadratic equation?"
      ],
      "metadata": {
        "id": "loojeUKAkwwQ"
      }
    },
    {
      "cell_type": "code",
      "source": [
        "import math\n",
        "\n",
        "def solve_quadratic(a, b, c):\n",
        "    discriminant = b**2 - 4*a*c\n",
        "\n",
        "    if discriminant > 0:\n",
        "        root1 = (-b + math.sqrt(discriminant)) / (2*a)\n",
        "        root2 = (-b - math.sqrt(discriminant)) / (2*a)\n",
        "        return root1, root2\n",
        "    elif discriminant == 0:\n",
        "        root = -b / (2*a)\n",
        "        return root\n",
        "    else:\n",
        "        return None\n",
        "\n",
        "a = float(input(\"Enter the coefficient a: \"))\n",
        "b = float(input(\"Enter the coefficient b: \"))\n",
        "c = float(input(\"Enter the coefficient c: \"))\n",
        "\n",
        "roots = solve_quadratic(a, b, c)\n",
        "\n",
        "if roots is None:\n",
        "    print(\"No real roots exist (complex roots).\")\n",
        "elif isinstance(roots, tuple):\n",
        "    root1, root2 = roots\n",
        "    print(\"The roots are:\", root1, \"and\", root2)\n",
        "else:\n",
        "    print(\"The root is:\", roots)"
      ],
      "metadata": {
        "colab": {
          "base_uri": "https://localhost:8080/"
        },
        "id": "azqMbRnkktrh",
        "outputId": "79913113-0815-470f-9ada-4fb8741ed944"
      },
      "execution_count": 4,
      "outputs": [
        {
          "output_type": "stream",
          "name": "stdout",
          "text": [
            "Enter the coefficient a: 3\n",
            "Enter the coefficient b: 2\n",
            "Enter the coefficient c: 3\n",
            "No real roots exist (complex roots).\n"
          ]
        }
      ]
    },
    {
      "cell_type": "markdown",
      "source": [
        "#QUESTION 5:\n",
        "Write a Python program to swap two variables without temp variable?"
      ],
      "metadata": {
        "id": "Q_1oSo5PlkhA"
      }
    },
    {
      "cell_type": "code",
      "source": [
        "def swap_variables(a, b):\n",
        "    a = a + b\n",
        "    b = a - b\n",
        "    a = a - b\n",
        "    return a, b\n",
        "\n",
        "a = int(input(\"Enter the value of a: \"))\n",
        "b = int(input(\"Enter the value of b: \"))\n",
        "\n",
        "a, b = swap_variables(a, b)\n",
        "\n",
        "print(\"After swapping:\")\n",
        "print(\"a =\", a)\n",
        "print(\"b =\", b)"
      ],
      "metadata": {
        "colab": {
          "base_uri": "https://localhost:8080/"
        },
        "id": "oJlYfjAElf0H",
        "outputId": "3daa3903-8329-4414-ed69-17164636a3e6"
      },
      "execution_count": 5,
      "outputs": [
        {
          "output_type": "stream",
          "name": "stdout",
          "text": [
            "Enter the value of a: 3\n",
            "Enter the value of b: 4\n",
            "After swapping:\n",
            "a = 4\n",
            "b = 3\n"
          ]
        }
      ]
    }
  ]
}